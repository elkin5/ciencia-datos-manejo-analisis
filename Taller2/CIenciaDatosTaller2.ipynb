{
 "cells": [
  {
   "cell_type": "markdown",
   "metadata": {},
   "source": [
    "# Taller 2 - Red de Monitoreo de Calidad del Aire de Bogota.\n",
    "http://rmcab.ambientebogota.gov.co/Report/stationreport"
   ]
  },
  {
   "cell_type": "markdown",
   "metadata": {},
   "source": [
    "## Descripción de los datos "
   ]
  },
  {
   "cell_type": "markdown",
   "metadata": {
    "_cell_guid": "a46b6c64-6f25-4007-9f41-4abd863b0130",
    "_uuid": "db8d6c6327671959fae8eefb9e3e60adad46afbe",
    "id": "EclXh3ZcfaL5"
   },
   "source": [
    "## 1. Cargar Librerias\n",
    "***"
   ]
  },
  {
   "cell_type": "code",
   "execution_count": 132,
   "metadata": {
    "_cell_guid": "9b79a352-5901-4b5a-af72-c2872c6c2d3b",
    "_uuid": "4ebdadf89270fbbe8a2efa6aa8053c3605fbc808",
    "id": "fbYd1fhmfaL5",
    "tags": []
   },
   "outputs": [],
   "source": [
    "# Carga las librerias necesarias\n",
    "import pandas as pd\n",
    "import numpy as np\n",
    "import matplotlib as plt\n",
    "import matplotlib.pyplot as plt\n",
    "import matplotlib as matplot\n",
    "import seaborn as sns\n",
    "from matplotlib.pyplot import figure\n",
    "%matplotlib inline"
   ]
  },
  {
   "cell_type": "markdown",
   "metadata": {
    "id": "-6CGZ7d4duEW"
   },
   "source": [
    "## 2. Cargar Datos"
   ]
  },
  {
   "cell_type": "code",
   "execution_count": 161,
   "metadata": {
    "_cell_guid": "af5af896-7e0a-46fb-837a-b6f0ae51fd56",
    "_uuid": "4bbc946c081a0d297fd5801048e9b49a0d036168",
    "colab": {
     "base_uri": "https://localhost:8080/",
     "height": 424
    },
    "id": "znzvPbRNfaL7",
    "outputId": "addc8ec6-7f09-41d1-a14c-c65d8b760908",
    "tags": []
   },
   "outputs": [
    {
     "data": {
      "text/html": [
       "<div>\n",
       "<style scoped>\n",
       "    .dataframe tbody tr th:only-of-type {\n",
       "        vertical-align: middle;\n",
       "    }\n",
       "\n",
       "    .dataframe tbody tr th {\n",
       "        vertical-align: top;\n",
       "    }\n",
       "\n",
       "    .dataframe thead th {\n",
       "        text-align: right;\n",
       "    }\n",
       "</style>\n",
       "<table border=\"1\" class=\"dataframe\">\n",
       "  <thead>\n",
       "    <tr style=\"text-align: right;\">\n",
       "      <th></th>\n",
       "      <th>PM10</th>\n",
       "      <th>PM2.5</th>\n",
       "      <th>NO</th>\n",
       "      <th>NO2</th>\n",
       "      <th>NOX</th>\n",
       "      <th>CO</th>\n",
       "      <th>OZONO</th>\n",
       "      <th>Station</th>\n",
       "      <th>DateTime</th>\n",
       "      <th>Status</th>\n",
       "      <th>Latitud</th>\n",
       "      <th>Longitud</th>\n",
       "      <th>month</th>\n",
       "      <th>day_week</th>\n",
       "      <th>day_month</th>\n",
       "      <th>hour</th>\n",
       "    </tr>\n",
       "  </thead>\n",
       "  <tbody>\n",
       "    <tr>\n",
       "      <th>0</th>\n",
       "      <td>52.6</td>\n",
       "      <td>37.0</td>\n",
       "      <td>53.384</td>\n",
       "      <td>3.428</td>\n",
       "      <td>56.817</td>\n",
       "      <td>NaN</td>\n",
       "      <td>NaN</td>\n",
       "      <td>7MA</td>\n",
       "      <td>2021-01-01 01:00:00</td>\n",
       "      <td>True</td>\n",
       "      <td>4.645117</td>\n",
       "      <td>-74.061503</td>\n",
       "      <td>1</td>\n",
       "      <td>4</td>\n",
       "      <td>1</td>\n",
       "      <td>1</td>\n",
       "    </tr>\n",
       "    <tr>\n",
       "      <th>1</th>\n",
       "      <td>77.9</td>\n",
       "      <td>61.0</td>\n",
       "      <td>49.105</td>\n",
       "      <td>3.420</td>\n",
       "      <td>52.525</td>\n",
       "      <td>NaN</td>\n",
       "      <td>NaN</td>\n",
       "      <td>7MA</td>\n",
       "      <td>2021-01-01 02:00:00</td>\n",
       "      <td>True</td>\n",
       "      <td>4.645117</td>\n",
       "      <td>-74.061503</td>\n",
       "      <td>1</td>\n",
       "      <td>4</td>\n",
       "      <td>1</td>\n",
       "      <td>2</td>\n",
       "    </tr>\n",
       "    <tr>\n",
       "      <th>2</th>\n",
       "      <td>58.5</td>\n",
       "      <td>48.0</td>\n",
       "      <td>47.284</td>\n",
       "      <td>4.062</td>\n",
       "      <td>51.346</td>\n",
       "      <td>NaN</td>\n",
       "      <td>NaN</td>\n",
       "      <td>7MA</td>\n",
       "      <td>2021-01-01 03:00:00</td>\n",
       "      <td>True</td>\n",
       "      <td>4.645117</td>\n",
       "      <td>-74.061503</td>\n",
       "      <td>1</td>\n",
       "      <td>4</td>\n",
       "      <td>1</td>\n",
       "      <td>3</td>\n",
       "    </tr>\n",
       "    <tr>\n",
       "      <th>3</th>\n",
       "      <td>57.2</td>\n",
       "      <td>44.0</td>\n",
       "      <td>46.059</td>\n",
       "      <td>3.606</td>\n",
       "      <td>49.664</td>\n",
       "      <td>NaN</td>\n",
       "      <td>NaN</td>\n",
       "      <td>7MA</td>\n",
       "      <td>2021-01-01 04:00:00</td>\n",
       "      <td>True</td>\n",
       "      <td>4.645117</td>\n",
       "      <td>-74.061503</td>\n",
       "      <td>1</td>\n",
       "      <td>4</td>\n",
       "      <td>1</td>\n",
       "      <td>4</td>\n",
       "    </tr>\n",
       "    <tr>\n",
       "      <th>4</th>\n",
       "      <td>53.5</td>\n",
       "      <td>39.0</td>\n",
       "      <td>39.851</td>\n",
       "      <td>1.625</td>\n",
       "      <td>41.475</td>\n",
       "      <td>NaN</td>\n",
       "      <td>NaN</td>\n",
       "      <td>7MA</td>\n",
       "      <td>2021-01-01 05:00:00</td>\n",
       "      <td>True</td>\n",
       "      <td>4.645117</td>\n",
       "      <td>-74.061503</td>\n",
       "      <td>1</td>\n",
       "      <td>4</td>\n",
       "      <td>1</td>\n",
       "      <td>5</td>\n",
       "    </tr>\n",
       "  </tbody>\n",
       "</table>\n",
       "</div>"
      ],
      "text/plain": [
       "   PM10  PM2.5      NO    NO2     NOX  CO  OZONO Station             DateTime  \\\n",
       "0  52.6   37.0  53.384  3.428  56.817 NaN    NaN     7MA  2021-01-01 01:00:00   \n",
       "1  77.9   61.0  49.105  3.420  52.525 NaN    NaN     7MA  2021-01-01 02:00:00   \n",
       "2  58.5   48.0  47.284  4.062  51.346 NaN    NaN     7MA  2021-01-01 03:00:00   \n",
       "3  57.2   44.0  46.059  3.606  49.664 NaN    NaN     7MA  2021-01-01 04:00:00   \n",
       "4  53.5   39.0  39.851  1.625  41.475 NaN    NaN     7MA  2021-01-01 05:00:00   \n",
       "\n",
       "   Status   Latitud   Longitud  month  day_week  day_month  hour  \n",
       "0    True  4.645117 -74.061503      1         4          1     1  \n",
       "1    True  4.645117 -74.061503      1         4          1     2  \n",
       "2    True  4.645117 -74.061503      1         4          1     3  \n",
       "3    True  4.645117 -74.061503      1         4          1     4  \n",
       "4    True  4.645117 -74.061503      1         4          1     5  "
      ]
     },
     "execution_count": 161,
     "metadata": {},
     "output_type": "execute_result"
    }
   ],
   "source": [
    "#dataframe nombrado \"df\"\n",
    "#Se usará el conjunto de datos \"dataset_with_geo_missing\" creado en el Taller 1, \n",
    "#este conjunto de datos, se caracteriza por no tener algunos valores.\n",
    "\n",
    " # carga el conjunto de datos ../Taller1/data/dataset_with_geo_missing.csv\n",
    "df = pd.read_csv('work/dataScienceCourse/data/dataset_with_geo_missing.csv', sep=',', engine='python', encoding='latin1')\n",
    "df.head()"
   ]
  },
  {
   "cell_type": "markdown",
   "metadata": {
    "_cell_guid": "11e56653-4ce4-44eb-b562-a5715562c3cc",
    "_uuid": "7af6d7934b3f0212c93d1a07e69f934dd986a954",
    "id": "uxgCcL_NfaMB"
   },
   "source": [
    "## 3: Explorar datos\n",
    "*** "
   ]
  },
  {
   "cell_type": "markdown",
   "metadata": {
    "_cell_guid": "bde6fe00-926c-4ee4-a00a-faca5ecfa917",
    "_uuid": "551ca8d64aaaa080d36e0da0ed46c3ca267349fd",
    "id": "_8yxy0XofaMC"
   },
   "source": [
    "###  3.1 Estadisticas \n",
    "***\n",
    "Resumen: \n",
    "- Identificar nombre de las columnas\n",
    "- Número de columnas y filas \n",
    "- Tamaño del conjunto de datos\n",
    "- Tipos de datos\n",
    "- Porcentajes de valores\n",
    "- Correlaciones de variables\n",
    "- Valores nulos\n"
   ]
  },
  {
   "cell_type": "code",
   "execution_count": 134,
   "metadata": {
    "_cell_guid": "bc3d99b1-7bc5-4ba2-a34f-0a721c51075f",
    "_uuid": "a9ae5674c17ee2b88035aef24d674c56d0b89a03",
    "colab": {
     "base_uri": "https://localhost:8080/",
     "height": 344
    },
    "id": "PjvcTK_ZfaMD",
    "outputId": "8cb798ef-3de4-4a8f-f9ab-4de8cd60371e"
   },
   "outputs": [
    {
     "data": {
      "text/plain": [
       "Index(['PM10', 'PM2.5', 'NO', 'NO2', 'NOX', 'CO', 'OZONO', 'Station',\n",
       "       'DateTime', 'Status', 'Latitud', 'Longitud', 'month', 'day_week',\n",
       "       'day_month', 'hour'],\n",
       "      dtype='object')"
      ]
     },
     "execution_count": 134,
     "metadata": {},
     "output_type": "execute_result"
    }
   ],
   "source": [
    "# Estadisticas basicas del conjunto de datos \n",
    "df.columns"
   ]
  },
  {
   "cell_type": "code",
   "execution_count": 135,
   "metadata": {
    "_cell_guid": "73419440-c92d-4f6a-a718-216646b900cc",
    "_uuid": "a7eabf82ee6adbd09aca9e878112f8525ea50417",
    "colab": {
     "base_uri": "https://localhost:8080/"
    },
    "id": "TqxYdlGofaMC",
    "outputId": "9c6c3444-4b5b-4673-ffc3-a8c8876dd91e"
   },
   "outputs": [
    {
     "data": {
      "text/plain": [
       "(166440, 16)"
      ]
     },
     "execution_count": 135,
     "metadata": {},
     "output_type": "execute_result"
    }
   ],
   "source": [
    "#Descripción del conjunto de datos: 166440 observaciones y 10 caracteristicas\n",
    "df.shape"
   ]
  },
  {
   "cell_type": "code",
   "execution_count": 136,
   "metadata": {
    "_cell_guid": "25bc8dfe-5d24-4249-bab0-0424a20b1bd5",
    "_uuid": "4be89ba5d2e7f693b0cd228830423a700b6196fa",
    "colab": {
     "base_uri": "https://localhost:8080/"
    },
    "id": "GvztrHwefaMC",
    "outputId": "631536e2-5ec1-4d0b-f0a2-bf8ae47f2fe0"
   },
   "outputs": [
    {
     "name": "stdout",
     "output_type": "stream",
     "text": [
      "Número de  Filas:  166440\n",
      "Número de Columnas  16\n",
      "PM10         float64\n",
      "PM2.5        float64\n",
      "NO           float64\n",
      "NO2          float64\n",
      "NOX          float64\n",
      "CO           float64\n",
      "OZONO        float64\n",
      "Station       object\n",
      "DateTime      object\n",
      "Status          bool\n",
      "Latitud      float64\n",
      "Longitud     float64\n",
      "month          int64\n",
      "day_week       int64\n",
      "day_month      int64\n",
      "hour           int64\n",
      "dtype: object\n"
     ]
    }
   ],
   "source": [
    "# Comprobar el número de Filas y Columnas \n",
    "print(\"Número de  Filas: \", len(df))\n",
    "print(\"Número de Columnas \", + len(df.columns))\n",
    "\n",
    "#Comprobar el tipo de datos en las características\n",
    "print(df.dtypes)"
   ]
  },
  {
   "cell_type": "code",
   "execution_count": 137,
   "metadata": {
    "colab": {
     "base_uri": "https://localhost:8080/"
    },
    "id": "KKhzqKC5n9oG",
    "outputId": "8a6484cf-1a1b-4f2e-bd60-27f11f3987d3"
   },
   "outputs": [
    {
     "name": "stdout",
     "output_type": "stream",
     "text": [
      "PM10          True\n",
      "PM2.5         True\n",
      "NO            True\n",
      "NO2           True\n",
      "NOX           True\n",
      "CO            True\n",
      "OZONO         True\n",
      "Station      False\n",
      "DateTime     False\n",
      "Status       False\n",
      "Latitud      False\n",
      "Longitud     False\n",
      "month        False\n",
      "day_week     False\n",
      "day_month    False\n",
      "hour         False\n",
      "dtype: bool\n"
     ]
    }
   ],
   "source": [
    "#Comprobar si hay valores nulos true o false\n",
    "print(df.isnull().any())"
   ]
  },
  {
   "cell_type": "code",
   "execution_count": 138,
   "metadata": {},
   "outputs": [
    {
     "name": "stdout",
     "output_type": "stream",
     "text": [
      "PM10         20014\n",
      "PM2.5        15312\n",
      "NO           27664\n",
      "NO2          27662\n",
      "NOX          27668\n",
      "CO           31238\n",
      "OZONO        32132\n",
      "Station          0\n",
      "DateTime         0\n",
      "Status           0\n",
      "Latitud          0\n",
      "Longitud         0\n",
      "month            0\n",
      "day_week         0\n",
      "day_month        0\n",
      "hour             0\n",
      "dtype: int64\n"
     ]
    }
   ],
   "source": [
    "# Validar numero de valores nulos por caracteristica\n",
    "print(df.isnull().sum())"
   ]
  },
  {
   "cell_type": "code",
   "execution_count": 139,
   "metadata": {
    "colab": {
     "base_uri": "https://localhost:8080/"
    },
    "id": "Aa0OGCYlOsJf",
    "outputId": "b04fa9ef-f1ff-4e76-cd1c-0ef22da199d2",
    "scrolled": true
   },
   "outputs": [
    {
     "name": "stdout",
     "output_type": "stream",
     "text": [
      "PM10          True\n",
      "PM2.5        False\n",
      "NO            True\n",
      "NO2           True\n",
      "NOX           True\n",
      "CO            True\n",
      "OZONO         True\n",
      "Station      False\n",
      "DateTime     False\n",
      "Status       False\n",
      "Latitud      False\n",
      "Longitud     False\n",
      "month        False\n",
      "day_week     False\n",
      "day_month    False\n",
      "hour         False\n",
      "dtype: bool\n"
     ]
    }
   ],
   "source": [
    "# Esta celda eliminará todas las filas que tienen valores nulos solo para la caracteristica PM2.5\n",
    "df = df.dropna(subset=['PM2.5'])\n",
    "print(df.isnull().any())"
   ]
  },
  {
   "cell_type": "code",
   "execution_count": 140,
   "metadata": {
    "_cell_guid": "d61efd5d-5c2c-4b3c-b2ac-22d562c9e91a",
    "_uuid": "cfb764723207606d3e7fe991b17cd648e04c0a7a",
    "colab": {
     "base_uri": "https://localhost:8080/",
     "height": 143
    },
    "id": "LN-uwGOPfaMD",
    "outputId": "18973e51-a24c-4621-abc8-5f874f301e71"
   },
   "outputs": [
    {
     "data": {
      "text/html": [
       "<div>\n",
       "<style scoped>\n",
       "    .dataframe tbody tr th:only-of-type {\n",
       "        vertical-align: middle;\n",
       "    }\n",
       "\n",
       "    .dataframe tbody tr th {\n",
       "        vertical-align: top;\n",
       "    }\n",
       "\n",
       "    .dataframe thead th {\n",
       "        text-align: right;\n",
       "    }\n",
       "</style>\n",
       "<table border=\"1\" class=\"dataframe\">\n",
       "  <thead>\n",
       "    <tr style=\"text-align: right;\">\n",
       "      <th></th>\n",
       "      <th>PM10</th>\n",
       "      <th>PM2.5</th>\n",
       "      <th>NO</th>\n",
       "      <th>NO2</th>\n",
       "      <th>NOX</th>\n",
       "      <th>CO</th>\n",
       "      <th>OZONO</th>\n",
       "      <th>Latitud</th>\n",
       "      <th>Longitud</th>\n",
       "      <th>month</th>\n",
       "      <th>day_week</th>\n",
       "      <th>day_month</th>\n",
       "      <th>hour</th>\n",
       "    </tr>\n",
       "    <tr>\n",
       "      <th>Status</th>\n",
       "      <th></th>\n",
       "      <th></th>\n",
       "      <th></th>\n",
       "      <th></th>\n",
       "      <th></th>\n",
       "      <th></th>\n",
       "      <th></th>\n",
       "      <th></th>\n",
       "      <th></th>\n",
       "      <th></th>\n",
       "      <th></th>\n",
       "      <th></th>\n",
       "      <th></th>\n",
       "    </tr>\n",
       "  </thead>\n",
       "  <tbody>\n",
       "    <tr>\n",
       "      <th>False</th>\n",
       "      <td>18.914355</td>\n",
       "      <td>6.078521</td>\n",
       "      <td>12.106935</td>\n",
       "      <td>11.669613</td>\n",
       "      <td>23.776336</td>\n",
       "      <td>0.463858</td>\n",
       "      <td>12.364907</td>\n",
       "      <td>4.656016</td>\n",
       "      <td>-74.097669</td>\n",
       "      <td>6.452010</td>\n",
       "      <td>3.033410</td>\n",
       "      <td>15.552873</td>\n",
       "      <td>12.555353</td>\n",
       "    </tr>\n",
       "    <tr>\n",
       "      <th>True</th>\n",
       "      <td>45.786601</td>\n",
       "      <td>24.622938</td>\n",
       "      <td>26.674421</td>\n",
       "      <td>19.175339</td>\n",
       "      <td>45.843120</td>\n",
       "      <td>0.925081</td>\n",
       "      <td>11.054208</td>\n",
       "      <td>4.647198</td>\n",
       "      <td>-74.113800</td>\n",
       "      <td>6.885615</td>\n",
       "      <td>2.986475</td>\n",
       "      <td>15.995248</td>\n",
       "      <td>12.431924</td>\n",
       "    </tr>\n",
       "  </tbody>\n",
       "</table>\n",
       "</div>"
      ],
      "text/plain": [
       "             PM10      PM2.5         NO        NO2        NOX        CO  \\\n",
       "Status                                                                    \n",
       "False   18.914355   6.078521  12.106935  11.669613  23.776336  0.463858   \n",
       "True    45.786601  24.622938  26.674421  19.175339  45.843120  0.925081   \n",
       "\n",
       "            OZONO   Latitud   Longitud     month  day_week  day_month  \\\n",
       "Status                                                                  \n",
       "False   12.364907  4.656016 -74.097669  6.452010  3.033410  15.552873   \n",
       "True    11.054208  4.647198 -74.113800  6.885615  2.986475  15.995248   \n",
       "\n",
       "             hour  \n",
       "Status             \n",
       "False   12.555353  \n",
       "True    12.431924  "
      ]
     },
     "execution_count": 140,
     "metadata": {},
     "output_type": "execute_result"
    }
   ],
   "source": [
    "# Resumen de una variable (False V.S. True) en la variable Status\n",
    "# Agrupar por la columna 'Status'\n",
    "Status_Summary = df.groupby('Status')\n",
    "\n",
    "# Calcular la media de las columnas numéricas\n",
    "Status_Summary.mean(numeric_only=True)"
   ]
  },
  {
   "cell_type": "code",
   "execution_count": 141,
   "metadata": {
    "colab": {
     "base_uri": "https://localhost:8080/"
    },
    "id": "JD_8dbJSzZj3",
    "outputId": "7d595b85-04b8-4205-a8fd-533ba3f245fe"
   },
   "outputs": [
    {
     "data": {
      "text/plain": [
       "Status\n",
       "False    75786\n",
       "True     75342\n",
       "Name: count, dtype: int64"
      ]
     },
     "execution_count": 141,
     "metadata": {},
     "output_type": "execute_result"
    }
   ],
   "source": [
    "#Filtrar datos por columnas\n",
    "df['Status'] = df['PM2.5'] > 12\n",
    "df.Status.value_counts()"
   ]
  },
  {
   "cell_type": "markdown",
   "metadata": {
    "_cell_guid": "918f20ff-ed2c-43dd-849c-b7d751aeed86",
    "_uuid": "bed79decbf6495197f8f0219212c41c0042e196e",
    "id": "BI1_I-gLfaME"
   },
   "source": [
    "####  3.1.1 Correlación\n",
    "***\n",
    "\n",
    "Resumen:\n",
    "\n",
    "\n",
    "- Hay una correlación **positiva(+) a 1** o **negativa(-) a -1** hay una correlacion fuerte. La aproximación a 0 es mas debil la relacion lineal  "
   ]
  },
  {
   "cell_type": "code",
   "execution_count": 142,
   "metadata": {
    "_cell_guid": "20d2f962-fcfa-434c-88ab-12dc05071b03",
    "_uuid": "1e2cb2cce7d8edf2ecd13a7197063ef3eea8d073",
    "colab": {
     "base_uri": "https://localhost:8080/",
     "height": 580
    },
    "id": "Nmn-hGsYfaME",
    "outputId": "8ababed3-407d-4371-92e5-84fe65438185",
    "scrolled": true
   },
   "outputs": [
    {
     "data": {
      "text/html": [
       "<div>\n",
       "<style scoped>\n",
       "    .dataframe tbody tr th:only-of-type {\n",
       "        vertical-align: middle;\n",
       "    }\n",
       "\n",
       "    .dataframe tbody tr th {\n",
       "        vertical-align: top;\n",
       "    }\n",
       "\n",
       "    .dataframe thead th {\n",
       "        text-align: right;\n",
       "    }\n",
       "</style>\n",
       "<table border=\"1\" class=\"dataframe\">\n",
       "  <thead>\n",
       "    <tr style=\"text-align: right;\">\n",
       "      <th></th>\n",
       "      <th>PM10</th>\n",
       "      <th>PM2.5</th>\n",
       "      <th>NO</th>\n",
       "      <th>NO2</th>\n",
       "      <th>NOX</th>\n",
       "      <th>CO</th>\n",
       "      <th>OZONO</th>\n",
       "      <th>Status</th>\n",
       "      <th>Latitud</th>\n",
       "      <th>Longitud</th>\n",
       "      <th>month</th>\n",
       "      <th>day_week</th>\n",
       "      <th>day_month</th>\n",
       "      <th>hour</th>\n",
       "    </tr>\n",
       "  </thead>\n",
       "  <tbody>\n",
       "    <tr>\n",
       "      <th>PM10</th>\n",
       "      <td>1.000000</td>\n",
       "      <td>0.802069</td>\n",
       "      <td>0.333551</td>\n",
       "      <td>0.429229</td>\n",
       "      <td>0.431702</td>\n",
       "      <td>0.540223</td>\n",
       "      <td>-0.037284</td>\n",
       "      <td>0.589838</td>\n",
       "      <td>-0.156404</td>\n",
       "      <td>-0.347981</td>\n",
       "      <td>0.067521</td>\n",
       "      <td>-0.051476</td>\n",
       "      <td>0.024679</td>\n",
       "      <td>0.001573</td>\n",
       "    </tr>\n",
       "    <tr>\n",
       "      <th>PM2.5</th>\n",
       "      <td>0.802069</td>\n",
       "      <td>1.000000</td>\n",
       "      <td>0.336237</td>\n",
       "      <td>0.476576</td>\n",
       "      <td>0.447956</td>\n",
       "      <td>0.574157</td>\n",
       "      <td>-0.060233</td>\n",
       "      <td>0.743737</td>\n",
       "      <td>-0.112961</td>\n",
       "      <td>-0.250248</td>\n",
       "      <td>0.057089</td>\n",
       "      <td>-0.027135</td>\n",
       "      <td>0.024499</td>\n",
       "      <td>-0.017080</td>\n",
       "    </tr>\n",
       "    <tr>\n",
       "      <th>NO</th>\n",
       "      <td>0.333551</td>\n",
       "      <td>0.336237</td>\n",
       "      <td>1.000000</td>\n",
       "      <td>0.177441</td>\n",
       "      <td>0.954018</td>\n",
       "      <td>0.641977</td>\n",
       "      <td>-0.392281</td>\n",
       "      <td>0.266924</td>\n",
       "      <td>0.000683</td>\n",
       "      <td>0.112076</td>\n",
       "      <td>0.065695</td>\n",
       "      <td>-0.041166</td>\n",
       "      <td>0.014469</td>\n",
       "      <td>-0.089875</td>\n",
       "    </tr>\n",
       "    <tr>\n",
       "      <th>NO2</th>\n",
       "      <td>0.429229</td>\n",
       "      <td>0.476576</td>\n",
       "      <td>0.177441</td>\n",
       "      <td>1.000000</td>\n",
       "      <td>0.463926</td>\n",
       "      <td>0.556881</td>\n",
       "      <td>-0.357302</td>\n",
       "      <td>0.406814</td>\n",
       "      <td>-0.051752</td>\n",
       "      <td>-0.282244</td>\n",
       "      <td>0.125257</td>\n",
       "      <td>-0.061379</td>\n",
       "      <td>0.039778</td>\n",
       "      <td>0.078510</td>\n",
       "    </tr>\n",
       "    <tr>\n",
       "      <th>NOX</th>\n",
       "      <td>0.431702</td>\n",
       "      <td>0.447956</td>\n",
       "      <td>0.954018</td>\n",
       "      <td>0.463926</td>\n",
       "      <td>1.000000</td>\n",
       "      <td>0.724278</td>\n",
       "      <td>-0.438799</td>\n",
       "      <td>0.364254</td>\n",
       "      <td>-0.015372</td>\n",
       "      <td>0.014813</td>\n",
       "      <td>0.097226</td>\n",
       "      <td>-0.055696</td>\n",
       "      <td>0.025396</td>\n",
       "      <td>-0.056927</td>\n",
       "    </tr>\n",
       "    <tr>\n",
       "      <th>CO</th>\n",
       "      <td>0.540223</td>\n",
       "      <td>0.574157</td>\n",
       "      <td>0.641977</td>\n",
       "      <td>0.556881</td>\n",
       "      <td>0.724278</td>\n",
       "      <td>1.000000</td>\n",
       "      <td>-0.296780</td>\n",
       "      <td>0.406113</td>\n",
       "      <td>-0.242054</td>\n",
       "      <td>-0.229861</td>\n",
       "      <td>0.031094</td>\n",
       "      <td>-0.033735</td>\n",
       "      <td>0.011437</td>\n",
       "      <td>0.067562</td>\n",
       "    </tr>\n",
       "    <tr>\n",
       "      <th>OZONO</th>\n",
       "      <td>-0.037284</td>\n",
       "      <td>-0.060233</td>\n",
       "      <td>-0.392281</td>\n",
       "      <td>-0.357302</td>\n",
       "      <td>-0.438799</td>\n",
       "      <td>-0.296780</td>\n",
       "      <td>1.000000</td>\n",
       "      <td>-0.064089</td>\n",
       "      <td>-0.005822</td>\n",
       "      <td>0.052697</td>\n",
       "      <td>-0.048731</td>\n",
       "      <td>0.037873</td>\n",
       "      <td>-0.002753</td>\n",
       "      <td>0.138389</td>\n",
       "    </tr>\n",
       "    <tr>\n",
       "      <th>Status</th>\n",
       "      <td>0.589838</td>\n",
       "      <td>0.743737</td>\n",
       "      <td>0.266924</td>\n",
       "      <td>0.406814</td>\n",
       "      <td>0.364254</td>\n",
       "      <td>0.406113</td>\n",
       "      <td>-0.064089</td>\n",
       "      <td>1.000000</td>\n",
       "      <td>-0.064167</td>\n",
       "      <td>-0.212641</td>\n",
       "      <td>0.062754</td>\n",
       "      <td>-0.011762</td>\n",
       "      <td>0.025053</td>\n",
       "      <td>-0.008882</td>\n",
       "    </tr>\n",
       "    <tr>\n",
       "      <th>Latitud</th>\n",
       "      <td>-0.156404</td>\n",
       "      <td>-0.112961</td>\n",
       "      <td>0.000683</td>\n",
       "      <td>-0.051752</td>\n",
       "      <td>-0.015372</td>\n",
       "      <td>-0.242054</td>\n",
       "      <td>-0.005822</td>\n",
       "      <td>-0.064167</td>\n",
       "      <td>1.000000</td>\n",
       "      <td>0.454655</td>\n",
       "      <td>0.026990</td>\n",
       "      <td>0.001172</td>\n",
       "      <td>0.005779</td>\n",
       "      <td>0.000495</td>\n",
       "    </tr>\n",
       "    <tr>\n",
       "      <th>Longitud</th>\n",
       "      <td>-0.347981</td>\n",
       "      <td>-0.250248</td>\n",
       "      <td>0.112076</td>\n",
       "      <td>-0.282244</td>\n",
       "      <td>0.014813</td>\n",
       "      <td>-0.229861</td>\n",
       "      <td>0.052697</td>\n",
       "      <td>-0.212641</td>\n",
       "      <td>0.454655</td>\n",
       "      <td>1.000000</td>\n",
       "      <td>0.011046</td>\n",
       "      <td>-0.001147</td>\n",
       "      <td>0.000459</td>\n",
       "      <td>0.000508</td>\n",
       "    </tr>\n",
       "    <tr>\n",
       "      <th>month</th>\n",
       "      <td>0.067521</td>\n",
       "      <td>0.057089</td>\n",
       "      <td>0.065695</td>\n",
       "      <td>0.125257</td>\n",
       "      <td>0.097226</td>\n",
       "      <td>0.031094</td>\n",
       "      <td>-0.048731</td>\n",
       "      <td>0.062754</td>\n",
       "      <td>0.026990</td>\n",
       "      <td>0.011046</td>\n",
       "      <td>1.000000</td>\n",
       "      <td>-0.007524</td>\n",
       "      <td>0.010497</td>\n",
       "      <td>0.000005</td>\n",
       "    </tr>\n",
       "    <tr>\n",
       "      <th>day_week</th>\n",
       "      <td>-0.051476</td>\n",
       "      <td>-0.027135</td>\n",
       "      <td>-0.041166</td>\n",
       "      <td>-0.061379</td>\n",
       "      <td>-0.055696</td>\n",
       "      <td>-0.033735</td>\n",
       "      <td>0.037873</td>\n",
       "      <td>-0.011762</td>\n",
       "      <td>0.001172</td>\n",
       "      <td>-0.001147</td>\n",
       "      <td>-0.007524</td>\n",
       "      <td>1.000000</td>\n",
       "      <td>0.014844</td>\n",
       "      <td>-0.002526</td>\n",
       "    </tr>\n",
       "    <tr>\n",
       "      <th>day_month</th>\n",
       "      <td>0.024679</td>\n",
       "      <td>0.024499</td>\n",
       "      <td>0.014469</td>\n",
       "      <td>0.039778</td>\n",
       "      <td>0.025396</td>\n",
       "      <td>0.011437</td>\n",
       "      <td>-0.002753</td>\n",
       "      <td>0.025053</td>\n",
       "      <td>0.005779</td>\n",
       "      <td>0.000459</td>\n",
       "      <td>0.010497</td>\n",
       "      <td>0.014844</td>\n",
       "      <td>1.000000</td>\n",
       "      <td>-0.000033</td>\n",
       "    </tr>\n",
       "    <tr>\n",
       "      <th>hour</th>\n",
       "      <td>0.001573</td>\n",
       "      <td>-0.017080</td>\n",
       "      <td>-0.089875</td>\n",
       "      <td>0.078510</td>\n",
       "      <td>-0.056927</td>\n",
       "      <td>0.067562</td>\n",
       "      <td>0.138389</td>\n",
       "      <td>-0.008882</td>\n",
       "      <td>0.000495</td>\n",
       "      <td>0.000508</td>\n",
       "      <td>0.000005</td>\n",
       "      <td>-0.002526</td>\n",
       "      <td>-0.000033</td>\n",
       "      <td>1.000000</td>\n",
       "    </tr>\n",
       "  </tbody>\n",
       "</table>\n",
       "</div>"
      ],
      "text/plain": [
       "               PM10     PM2.5        NO       NO2       NOX        CO  \\\n",
       "PM10       1.000000  0.802069  0.333551  0.429229  0.431702  0.540223   \n",
       "PM2.5      0.802069  1.000000  0.336237  0.476576  0.447956  0.574157   \n",
       "NO         0.333551  0.336237  1.000000  0.177441  0.954018  0.641977   \n",
       "NO2        0.429229  0.476576  0.177441  1.000000  0.463926  0.556881   \n",
       "NOX        0.431702  0.447956  0.954018  0.463926  1.000000  0.724278   \n",
       "CO         0.540223  0.574157  0.641977  0.556881  0.724278  1.000000   \n",
       "OZONO     -0.037284 -0.060233 -0.392281 -0.357302 -0.438799 -0.296780   \n",
       "Status     0.589838  0.743737  0.266924  0.406814  0.364254  0.406113   \n",
       "Latitud   -0.156404 -0.112961  0.000683 -0.051752 -0.015372 -0.242054   \n",
       "Longitud  -0.347981 -0.250248  0.112076 -0.282244  0.014813 -0.229861   \n",
       "month      0.067521  0.057089  0.065695  0.125257  0.097226  0.031094   \n",
       "day_week  -0.051476 -0.027135 -0.041166 -0.061379 -0.055696 -0.033735   \n",
       "day_month  0.024679  0.024499  0.014469  0.039778  0.025396  0.011437   \n",
       "hour       0.001573 -0.017080 -0.089875  0.078510 -0.056927  0.067562   \n",
       "\n",
       "              OZONO    Status   Latitud  Longitud     month  day_week  \\\n",
       "PM10      -0.037284  0.589838 -0.156404 -0.347981  0.067521 -0.051476   \n",
       "PM2.5     -0.060233  0.743737 -0.112961 -0.250248  0.057089 -0.027135   \n",
       "NO        -0.392281  0.266924  0.000683  0.112076  0.065695 -0.041166   \n",
       "NO2       -0.357302  0.406814 -0.051752 -0.282244  0.125257 -0.061379   \n",
       "NOX       -0.438799  0.364254 -0.015372  0.014813  0.097226 -0.055696   \n",
       "CO        -0.296780  0.406113 -0.242054 -0.229861  0.031094 -0.033735   \n",
       "OZONO      1.000000 -0.064089 -0.005822  0.052697 -0.048731  0.037873   \n",
       "Status    -0.064089  1.000000 -0.064167 -0.212641  0.062754 -0.011762   \n",
       "Latitud   -0.005822 -0.064167  1.000000  0.454655  0.026990  0.001172   \n",
       "Longitud   0.052697 -0.212641  0.454655  1.000000  0.011046 -0.001147   \n",
       "month     -0.048731  0.062754  0.026990  0.011046  1.000000 -0.007524   \n",
       "day_week   0.037873 -0.011762  0.001172 -0.001147 -0.007524  1.000000   \n",
       "day_month -0.002753  0.025053  0.005779  0.000459  0.010497  0.014844   \n",
       "hour       0.138389 -0.008882  0.000495  0.000508  0.000005 -0.002526   \n",
       "\n",
       "           day_month      hour  \n",
       "PM10        0.024679  0.001573  \n",
       "PM2.5       0.024499 -0.017080  \n",
       "NO          0.014469 -0.089875  \n",
       "NO2         0.039778  0.078510  \n",
       "NOX         0.025396 -0.056927  \n",
       "CO          0.011437  0.067562  \n",
       "OZONO      -0.002753  0.138389  \n",
       "Status      0.025053 -0.008882  \n",
       "Latitud     0.005779  0.000495  \n",
       "Longitud    0.000459  0.000508  \n",
       "month       0.010497  0.000005  \n",
       "day_week    0.014844 -0.002526  \n",
       "day_month   1.000000 -0.000033  \n",
       "hour       -0.000033  1.000000  "
      ]
     },
     "execution_count": 142,
     "metadata": {},
     "output_type": "execute_result"
    },
    {
     "data": {
      "image/png": "[encoded data removed]",
      "text/plain": [
       "<Figure size 640x480 with 2 Axes>"
      ]
     },
     "metadata": {},
     "output_type": "display_data"
    }
   ],
   "source": [
    "# Matriz de correlación\n",
    "corr = df.corr(numeric_only=True)\n",
    "\n",
    "# Visualización de la matriz de correlación\n",
    "sns.heatmap(corr, \n",
    "            xticklabels=corr.columns.values,\n",
    "            yticklabels=corr.columns.values)\n",
    "corr"
   ]
  },
  {
   "cell_type": "markdown",
   "metadata": {},
   "source": [
    "#### Coeficiente de Correlación: El coeficiente de correlación varía entre -1 y 1.\n",
    "- 1 indica una correlación positiva perfecta.\n",
    "- -1 indica una correlación negativa perfecta.\n",
    "- 0 indica que no hay correlación.\n",
    "\n",
    "##### Identificación de Relaciones:\n",
    "Ayuda a identificar relaciones lineales entre variables. Por ejemplo, si dos variables tienen un coeficiente de correlación cercano a 1 o -1, significa que hay una fuerte relación lineal entre ellas.\n",
    "\n",
    "##### Multicolinealidad:\n",
    "En análisis de regresión, la matriz de correlación puede ayudar a detectar multicolinealidad, que ocurre cuando dos o más variables independientes están altamente correlacionadas.\n",
    "\n",
    "##### Visualización:\n",
    "La visualización de la matriz de correlación con un mapa de calor (heatmap) facilita la identificación rápida de relaciones fuertes o débiles entre variables."
   ]
  },
  {
   "cell_type": "markdown",
   "metadata": {
    "_cell_guid": "fd10e1bc-1cca-4bdd-a8b4-73a6b7f5ddd7",
    "_uuid": "06467f1691005e605af9084ee142fd2c86b4f324",
    "id": "EXwS5-erfaMH"
   },
   "source": [
    "###  3.2 Gráficos de distribución \n"
   ]
  },
  {
   "cell_type": "code",
   "execution_count": 143,
   "metadata": {
    "colab": {
     "base_uri": "https://localhost:8080/",
     "height": 550
    },
    "id": "xnCHOWV3xTCD",
    "outputId": "509474b4-7fab-4edd-d1dc-3eb6a5865d92"
   },
   "outputs": [
    {
     "data": {
      "image/png": "[encoded data removed]",
      "text/plain": [
       "<Figure size 1600x1000 with 16 Axes>"
      ]
     },
     "metadata": {},
     "output_type": "display_data"
    }
   ],
   "source": [
    "#hist es un grafico (pandas) de distribucion de  datos.\n",
    "#este grafico nos sirve para identificar cuales son las variables numericas y su frencuencia. \n",
    "\n",
    "df.hist(figsize=(16,10),facecolor='blue', alpha=0.9, bins=13, edgecolor='orange', linewidth=2)\n",
    "plt.show()"
   ]
  },
  {
   "cell_type": "code",
   "execution_count": 144,
   "metadata": {
    "_cell_guid": "1899ace3-af9c-45aa-a351-affc1268f6fd",
    "_uuid": "965942ee9773a202172d7d855495089165b5ddac",
    "colab": {
     "base_uri": "https://localhost:8080/",
     "height": 463
    },
    "id": "DSyptdoCfaMI",
    "outputId": "e531a3c8-2d54-49bd-ead4-1effc6548cd7"
   },
   "outputs": [
    {
     "name": "stderr",
     "output_type": "stream",
     "text": [
      "/tmp/ipykernel_816/1448057234.py:6: UserWarning: \n",
      "\n",
      "`distplot` is a deprecated function and will be removed in seaborn v0.14.0.\n",
      "\n",
      "Please adapt your code to use either `displot` (a figure-level function with\n",
      "similar flexibility) or `histplot` (an axes-level function for histograms).\n",
      "\n",
      "For a guide to updating your code to use the new functions, please see\n",
      "https://gist.github.com/mwaskom/de44147ed2974457ad6372750bbe5751\n",
      "\n",
      "  sns.distplot(df.PM10, kde=False, color=\"g\", ax=axes[0]).set_title('PM10')\n",
      "/tmp/ipykernel_816/1448057234.py:9: UserWarning: \n",
      "\n",
      "`distplot` is a deprecated function and will be removed in seaborn v0.14.0.\n",
      "\n",
      "Please adapt your code to use either `displot` (a figure-level function with\n",
      "similar flexibility) or `histplot` (an axes-level function for histograms).\n",
      "\n",
      "For a guide to updating your code to use the new functions, please see\n",
      "https://gist.github.com/mwaskom/de44147ed2974457ad6372750bbe5751\n",
      "\n",
      "  sns.distplot(df.Status, kde=False, color=\"r\", ax=axes[1]).set_title('Status')\n",
      "/tmp/ipykernel_816/1448057234.py:12: UserWarning: \n",
      "\n",
      "`distplot` is a deprecated function and will be removed in seaborn v0.14.0.\n",
      "\n",
      "Please adapt your code to use either `displot` (a figure-level function with\n",
      "similar flexibility) or `histplot` (an axes-level function for histograms).\n",
      "\n",
      "For a guide to updating your code to use the new functions, please see\n",
      "https://gist.github.com/mwaskom/de44147ed2974457ad6372750bbe5751\n",
      "\n",
      "  sns.distplot(df.NOX, kde=False, color=\"b\", ax=axes[2]).set_title('NOX')\n"
     ]
    },
    {
     "data": {
      "text/plain": [
       "Text(0.5, 1.0, 'NOX')"
      ]
     },
     "execution_count": 144,
     "metadata": {},
     "output_type": "execute_result"
    },
    {
     "data": {
      "image/png": "[encoded data removed]",
      "text/plain": [
       "<Figure size 1500x600 with 3 Axes>"
      ]
     },
     "metadata": {},
     "output_type": "display_data"
    }
   ],
   "source": [
    "#otra forma de ver la distribucion de los datos\n",
    "# Uso de Libreria Seaborn (sna) para poner multiples graficos de distribución  \n",
    "f, axes = plt.subplots(ncols=3, figsize=(15, 6))\n",
    "\n",
    "#variable PM10\n",
    "sns.distplot(df.PM10, kde=False, color=\"g\", ax=axes[0]).set_title('PM10')\n",
    "\n",
    "#variable PM10\n",
    "sns.distplot(df.Status, kde=False, color=\"r\", ax=axes[1]).set_title('Status')\n",
    "\n",
    "#variable NOX\n",
    "sns.distplot(df.NOX, kde=False, color=\"b\", ax=axes[2]).set_title('NOX')"
   ]
  },
  {
   "cell_type": "markdown",
   "metadata": {
    "_cell_guid": "59946601-f880-492f-bba0-2abb6fa3349c",
    "_uuid": "0a7acbd87733d69cd9415694ecf9207bd3a351d8",
    "id": "sWcK6sbxfaMI"
   },
   "source": [
    "###  3.3 Gráfico de barras\n"
   ]
  },
  {
   "cell_type": "code",
   "execution_count": 145,
   "metadata": {
    "_cell_guid": "9949ba1f-4427-422b-99ca-8dac582a02b1",
    "_uuid": "df172af0f3fc0fdcf837b6f94c0f477fd831dc04",
    "colab": {
     "base_uri": "https://localhost:8080/",
     "height": 283
    },
    "id": "kKjM2tlLfaMI",
    "outputId": "05c7e2b3-6947-4b2f-b7eb-159d913641bd",
    "scrolled": true
   },
   "outputs": [
    {
     "data": {
      "image/png": "[encoded data removed]",
      "text/plain": [
       "<Figure size 1500x400 with 1 Axes>"
      ]
     },
     "metadata": {},
     "output_type": "display_data"
    }
   ],
   "source": [
    "#ditribucion por estacion \n",
    "f, ax = plt.subplots(figsize=(15, 4))\n",
    "sns.countplot(x=\"Station\", hue='Status', data=df).set_title('Distribución de Station');"
   ]
  },
  {
   "cell_type": "code",
   "execution_count": 146,
   "metadata": {
    "_cell_guid": "d3b1f718-f4d4-4e4f-8e64-e110e65416d6",
    "_uuid": "2fa4f8c2ee0138b1a32a5b64611ae2fc1362227d",
    "colab": {
     "base_uri": "https://localhost:8080/",
     "height": 346
    },
    "id": "PvGad6_cfaMJ",
    "outputId": "bfb4cc61-25af-4cc9-bb03-a18f4b164bac"
   },
   "outputs": [
    {
     "data": {
      "text/plain": [
       "(array([    0.,  2000.,  4000.,  6000.,  8000., 10000.]),\n",
       " [Text(0.0, 0, '0'),\n",
       "  Text(2000.0, 0, '2000'),\n",
       "  Text(4000.0, 0, '4000'),\n",
       "  Text(6000.0, 0, '6000'),\n",
       "  Text(8000.0, 0, '8000'),\n",
       "  Text(10000.0, 0, '10000')])"
      ]
     },
     "execution_count": 146,
     "metadata": {},
     "output_type": "execute_result"
    },
    {
     "data": {
      "image/png": "[encoded data removed]",
      "text/plain": [
       "<Figure size 640x480 with 1 Axes>"
      ]
     },
     "metadata": {},
     "output_type": "display_data"
    }
   ],
   "source": [
    "# Types of colors\n",
    "color_types = ['#78C850','#F08030','#6890F0','#A8B820','#A8A878','#A040A0','#F8D030',  \n",
    "                '#E0C068','#EE99AC','#C03028','#F85888','#B8A038','#705898','#98D8D8','#7038F8' ,'#FFFFF']\n",
    "\n",
    "# Count Plot (a.k.a. Bar Plot)\n",
    "sns.countplot(y='Station', data=df).set_title('Distribución por Estación');\n",
    " \n",
    "# Rotate x-labels\n",
    "plt.xticks(rotation=-45)"
   ]
  },
  {
   "cell_type": "markdown",
   "metadata": {
    "_cell_guid": "5c692223-97b5-49e0-91b6-110b14267dad",
    "_uuid": "82a9fc8e7ca4c2d4d7f89921bbf25863ab1b5e0b",
    "id": "t_y8BlNCfaMM"
   },
   "source": [
    "###  3.4 Gráficos de Cajas\n"
   ]
  },
  {
   "cell_type": "code",
   "execution_count": 147,
   "metadata": {
    "_cell_guid": "f71fe174-dd36-43a2-b882-99976b1fbb8d",
    "_uuid": "8cb12be2d8182a91b87bb91a11edf9864677976d",
    "colab": {
     "base_uri": "https://localhost:8080/",
     "height": 529
    },
    "id": "m-HHyXDVfaMO",
    "outputId": "05821c7d-0e14-45a4-f9f0-95f057371e4a",
    "scrolled": true
   },
   "outputs": [
    {
     "data": {
      "text/plain": [
       "<matplotlib.lines.Line2D at 0xffff54bffa90>"
      ]
     },
     "execution_count": 147,
     "metadata": {},
     "output_type": "execute_result"
    },
    {
     "data": {
      "image/png": "[encoded data removed]",
      "text/plain": [
       "<Figure size 1170x827 with 1 Axes>"
      ]
     },
     "metadata": {},
     "output_type": "display_data"
    }
   ],
   "source": [
    "import seaborn as sns\n",
    "\n",
    "a4_dims = (11.7, 8.27)\n",
    "fig, ax = plt.subplots(figsize=a4_dims)\n",
    "\n",
    "sns.boxplot(x=\"Station\", y=\"PM2.5\",  data=df)\n",
    "valh=4\n",
    "plt.axhline(valh, color='red')"
   ]
  },
  {
   "cell_type": "markdown",
   "metadata": {
    "id": "MUpSVz-3YfQF"
   },
   "source": [
    "Hemos revisado la información de ded dataset \"calidad del aire\", donde es importante la estación que mide la calidad del aire, sin embargo, no tenemos donde esta ubicada. \n",
    "\n",
    "Ahora vamos a cargar un nuevo dataset, que contiene la infromación de la ubicación (Latitud, Longitud) de cada estación."
   ]
  },
  {
   "cell_type": "markdown",
   "metadata": {
    "id": "P3yYMiAZQgwO"
   },
   "source": [
    "## 4. Tecnicas para solucionar valores perdidos y anomalias en un dataset"
   ]
  },
  {
   "cell_type": "code",
   "execution_count": 148,
   "metadata": {
    "id": "pbLMpWpxZMzj"
   },
   "outputs": [
    {
     "data": {
      "text/plain": [
       "PM10          9272\n",
       "PM2.5            0\n",
       "NO           20284\n",
       "NO2          20281\n",
       "NOX          20287\n",
       "CO           24826\n",
       "OZONO        25578\n",
       "Station          0\n",
       "DateTime         0\n",
       "Status           0\n",
       "Latitud          0\n",
       "Longitud         0\n",
       "month            0\n",
       "day_week         0\n",
       "day_month        0\n",
       "hour             0\n",
       "dtype: int64"
      ]
     },
     "execution_count": 148,
     "metadata": {},
     "output_type": "execute_result"
    }
   ],
   "source": [
    "#Contar valores nulos por columnas\n",
    "df.isnull().sum()"
   ]
  },
  {
   "cell_type": "code",
   "execution_count": 149,
   "metadata": {},
   "outputs": [
    {
     "data": {
      "text/html": [
       "<div>\n",
       "<style scoped>\n",
       "    .dataframe tbody tr th:only-of-type {\n",
       "        vertical-align: middle;\n",
       "    }\n",
       "\n",
       "    .dataframe tbody tr th {\n",
       "        vertical-align: top;\n",
       "    }\n",
       "\n",
       "    .dataframe thead th {\n",
       "        text-align: right;\n",
       "    }\n",
       "</style>\n",
       "<table border=\"1\" class=\"dataframe\">\n",
       "  <thead>\n",
       "    <tr style=\"text-align: right;\">\n",
       "      <th></th>\n",
       "      <th>PM10</th>\n",
       "      <th>PM2.5</th>\n",
       "      <th>NO</th>\n",
       "      <th>NO2</th>\n",
       "      <th>NOX</th>\n",
       "      <th>CO</th>\n",
       "      <th>OZONO</th>\n",
       "      <th>Station</th>\n",
       "      <th>DateTime</th>\n",
       "      <th>Status</th>\n",
       "      <th>Latitud</th>\n",
       "      <th>Longitud</th>\n",
       "      <th>month</th>\n",
       "      <th>day_week</th>\n",
       "      <th>day_month</th>\n",
       "      <th>hour</th>\n",
       "    </tr>\n",
       "  </thead>\n",
       "  <tbody>\n",
       "    <tr>\n",
       "      <th>0</th>\n",
       "      <td>52.6</td>\n",
       "      <td>37.0</td>\n",
       "      <td>53.384</td>\n",
       "      <td>3.428</td>\n",
       "      <td>56.817</td>\n",
       "      <td>NaN</td>\n",
       "      <td>NaN</td>\n",
       "      <td>7MA</td>\n",
       "      <td>2021-01-01 01:00:00</td>\n",
       "      <td>True</td>\n",
       "      <td>4.645117</td>\n",
       "      <td>-74.061503</td>\n",
       "      <td>1</td>\n",
       "      <td>4</td>\n",
       "      <td>1</td>\n",
       "      <td>1</td>\n",
       "    </tr>\n",
       "    <tr>\n",
       "      <th>1</th>\n",
       "      <td>77.9</td>\n",
       "      <td>61.0</td>\n",
       "      <td>49.105</td>\n",
       "      <td>3.420</td>\n",
       "      <td>52.525</td>\n",
       "      <td>NaN</td>\n",
       "      <td>NaN</td>\n",
       "      <td>7MA</td>\n",
       "      <td>2021-01-01 02:00:00</td>\n",
       "      <td>True</td>\n",
       "      <td>4.645117</td>\n",
       "      <td>-74.061503</td>\n",
       "      <td>1</td>\n",
       "      <td>4</td>\n",
       "      <td>1</td>\n",
       "      <td>2</td>\n",
       "    </tr>\n",
       "    <tr>\n",
       "      <th>2</th>\n",
       "      <td>58.5</td>\n",
       "      <td>48.0</td>\n",
       "      <td>47.284</td>\n",
       "      <td>4.062</td>\n",
       "      <td>51.346</td>\n",
       "      <td>NaN</td>\n",
       "      <td>NaN</td>\n",
       "      <td>7MA</td>\n",
       "      <td>2021-01-01 03:00:00</td>\n",
       "      <td>True</td>\n",
       "      <td>4.645117</td>\n",
       "      <td>-74.061503</td>\n",
       "      <td>1</td>\n",
       "      <td>4</td>\n",
       "      <td>1</td>\n",
       "      <td>3</td>\n",
       "    </tr>\n",
       "    <tr>\n",
       "      <th>3</th>\n",
       "      <td>57.2</td>\n",
       "      <td>44.0</td>\n",
       "      <td>46.059</td>\n",
       "      <td>3.606</td>\n",
       "      <td>49.664</td>\n",
       "      <td>NaN</td>\n",
       "      <td>NaN</td>\n",
       "      <td>7MA</td>\n",
       "      <td>2021-01-01 04:00:00</td>\n",
       "      <td>True</td>\n",
       "      <td>4.645117</td>\n",
       "      <td>-74.061503</td>\n",
       "      <td>1</td>\n",
       "      <td>4</td>\n",
       "      <td>1</td>\n",
       "      <td>4</td>\n",
       "    </tr>\n",
       "    <tr>\n",
       "      <th>4</th>\n",
       "      <td>53.5</td>\n",
       "      <td>39.0</td>\n",
       "      <td>39.851</td>\n",
       "      <td>1.625</td>\n",
       "      <td>41.475</td>\n",
       "      <td>NaN</td>\n",
       "      <td>NaN</td>\n",
       "      <td>7MA</td>\n",
       "      <td>2021-01-01 05:00:00</td>\n",
       "      <td>True</td>\n",
       "      <td>4.645117</td>\n",
       "      <td>-74.061503</td>\n",
       "      <td>1</td>\n",
       "      <td>4</td>\n",
       "      <td>1</td>\n",
       "      <td>5</td>\n",
       "    </tr>\n",
       "    <tr>\n",
       "      <th>...</th>\n",
       "      <td>...</td>\n",
       "      <td>...</td>\n",
       "      <td>...</td>\n",
       "      <td>...</td>\n",
       "      <td>...</td>\n",
       "      <td>...</td>\n",
       "      <td>...</td>\n",
       "      <td>...</td>\n",
       "      <td>...</td>\n",
       "      <td>...</td>\n",
       "      <td>...</td>\n",
       "      <td>...</td>\n",
       "      <td>...</td>\n",
       "      <td>...</td>\n",
       "      <td>...</td>\n",
       "      <td>...</td>\n",
       "    </tr>\n",
       "    <tr>\n",
       "      <th>166067</th>\n",
       "      <td>NaN</td>\n",
       "      <td>6.0</td>\n",
       "      <td>NaN</td>\n",
       "      <td>NaN</td>\n",
       "      <td>NaN</td>\n",
       "      <td>0.25272</td>\n",
       "      <td>15.399</td>\n",
       "      <td>USQ</td>\n",
       "      <td>2021-12-16 12:00:00</td>\n",
       "      <td>False</td>\n",
       "      <td>4.710381</td>\n",
       "      <td>-74.030414</td>\n",
       "      <td>12</td>\n",
       "      <td>3</td>\n",
       "      <td>16</td>\n",
       "      <td>12</td>\n",
       "    </tr>\n",
       "    <tr>\n",
       "      <th>166277</th>\n",
       "      <td>NaN</td>\n",
       "      <td>8.0</td>\n",
       "      <td>6.349</td>\n",
       "      <td>7.900</td>\n",
       "      <td>14.249</td>\n",
       "      <td>0.34390</td>\n",
       "      <td>7.896</td>\n",
       "      <td>USQ</td>\n",
       "      <td>2021-12-25 06:00:00</td>\n",
       "      <td>False</td>\n",
       "      <td>4.710381</td>\n",
       "      <td>-74.030414</td>\n",
       "      <td>12</td>\n",
       "      <td>5</td>\n",
       "      <td>25</td>\n",
       "      <td>6</td>\n",
       "    </tr>\n",
       "    <tr>\n",
       "      <th>166322</th>\n",
       "      <td>NaN</td>\n",
       "      <td>16.0</td>\n",
       "      <td>1.176</td>\n",
       "      <td>5.196</td>\n",
       "      <td>6.372</td>\n",
       "      <td>0.23339</td>\n",
       "      <td>10.659</td>\n",
       "      <td>USQ</td>\n",
       "      <td>2021-12-27 03:00:00</td>\n",
       "      <td>True</td>\n",
       "      <td>4.710381</td>\n",
       "      <td>-74.030414</td>\n",
       "      <td>12</td>\n",
       "      <td>0</td>\n",
       "      <td>27</td>\n",
       "      <td>3</td>\n",
       "    </tr>\n",
       "    <tr>\n",
       "      <th>166367</th>\n",
       "      <td>NaN</td>\n",
       "      <td>17.0</td>\n",
       "      <td>6.271</td>\n",
       "      <td>8.220</td>\n",
       "      <td>14.491</td>\n",
       "      <td>0.36351</td>\n",
       "      <td>12.266</td>\n",
       "      <td>USQ</td>\n",
       "      <td>2021-12-28 00:00:00</td>\n",
       "      <td>True</td>\n",
       "      <td>4.710381</td>\n",
       "      <td>-74.030414</td>\n",
       "      <td>12</td>\n",
       "      <td>1</td>\n",
       "      <td>28</td>\n",
       "      <td>24</td>\n",
       "    </tr>\n",
       "    <tr>\n",
       "      <th>166425</th>\n",
       "      <td>NaN</td>\n",
       "      <td>20.0</td>\n",
       "      <td>2.127</td>\n",
       "      <td>2.790</td>\n",
       "      <td>4.917</td>\n",
       "      <td>0.14834</td>\n",
       "      <td>25.527</td>\n",
       "      <td>USQ</td>\n",
       "      <td>2021-12-31 10:00:00</td>\n",
       "      <td>True</td>\n",
       "      <td>4.710381</td>\n",
       "      <td>-74.030414</td>\n",
       "      <td>12</td>\n",
       "      <td>4</td>\n",
       "      <td>31</td>\n",
       "      <td>10</td>\n",
       "    </tr>\n",
       "  </tbody>\n",
       "</table>\n",
       "<p>59491 rows × 16 columns</p>\n",
       "</div>"
      ],
      "text/plain": [
       "        PM10  PM2.5      NO    NO2     NOX       CO   OZONO Station  \\\n",
       "0       52.6   37.0  53.384  3.428  56.817      NaN     NaN     7MA   \n",
       "1       77.9   61.0  49.105  3.420  52.525      NaN     NaN     7MA   \n",
       "2       58.5   48.0  47.284  4.062  51.346      NaN     NaN     7MA   \n",
       "3       57.2   44.0  46.059  3.606  49.664      NaN     NaN     7MA   \n",
       "4       53.5   39.0  39.851  1.625  41.475      NaN     NaN     7MA   \n",
       "...      ...    ...     ...    ...     ...      ...     ...     ...   \n",
       "166067   NaN    6.0     NaN    NaN     NaN  0.25272  15.399     USQ   \n",
       "166277   NaN    8.0   6.349  7.900  14.249  0.34390   7.896     USQ   \n",
       "166322   NaN   16.0   1.176  5.196   6.372  0.23339  10.659     USQ   \n",
       "166367   NaN   17.0   6.271  8.220  14.491  0.36351  12.266     USQ   \n",
       "166425   NaN   20.0   2.127  2.790   4.917  0.14834  25.527     USQ   \n",
       "\n",
       "                   DateTime  Status   Latitud   Longitud  month  day_week  \\\n",
       "0       2021-01-01 01:00:00    True  4.645117 -74.061503      1         4   \n",
       "1       2021-01-01 02:00:00    True  4.645117 -74.061503      1         4   \n",
       "2       2021-01-01 03:00:00    True  4.645117 -74.061503      1         4   \n",
       "3       2021-01-01 04:00:00    True  4.645117 -74.061503      1         4   \n",
       "4       2021-01-01 05:00:00    True  4.645117 -74.061503      1         4   \n",
       "...                     ...     ...       ...        ...    ...       ...   \n",
       "166067  2021-12-16 12:00:00   False  4.710381 -74.030414     12         3   \n",
       "166277  2021-12-25 06:00:00   False  4.710381 -74.030414     12         5   \n",
       "166322  2021-12-27 03:00:00    True  4.710381 -74.030414     12         0   \n",
       "166367  2021-12-28 00:00:00    True  4.710381 -74.030414     12         1   \n",
       "166425  2021-12-31 10:00:00    True  4.710381 -74.030414     12         4   \n",
       "\n",
       "        day_month  hour  \n",
       "0               1     1  \n",
       "1               1     2  \n",
       "2               1     3  \n",
       "3               1     4  \n",
       "4               1     5  \n",
       "...           ...   ...  \n",
       "166067         16    12  \n",
       "166277         25     6  \n",
       "166322         27     3  \n",
       "166367         28    24  \n",
       "166425         31    10  \n",
       "\n",
       "[59491 rows x 16 columns]"
      ]
     },
     "execution_count": 149,
     "metadata": {},
     "output_type": "execute_result"
    }
   ],
   "source": [
    "nan_rows = df[df.isnull().any(axis=1)]\n",
    "nan_rows"
   ]
  },
  {
   "cell_type": "markdown",
   "metadata": {},
   "source": [
    "### 4.1 Completar con la media, mediana o desviación estándar"
   ]
  },
  {
   "cell_type": "code",
   "execution_count": 150,
   "metadata": {},
   "outputs": [
    {
     "data": {
      "text/plain": [
       "PM10                        52.6\n",
       "PM2.5                       37.0\n",
       "NO                        53.384\n",
       "NO2                        3.428\n",
       "NOX                       56.817\n",
       "CO                      0.567832\n",
       "OZONO                  10.225292\n",
       "Station                      7MA\n",
       "DateTime     2021-01-01 01:00:00\n",
       "Status                      True\n",
       "Latitud                 4.645117\n",
       "Longitud              -74.061503\n",
       "month                          1\n",
       "day_week                       4\n",
       "day_month                      1\n",
       "hour                           1\n",
       "Name: 0, dtype: object"
      ]
     },
     "execution_count": 150,
     "metadata": {},
     "output_type": "execute_result"
    }
   ],
   "source": [
    "#Para todo el conjunto de datos \n",
    "df_1 = df.fillna(df.select_dtypes(include=[np.number]).std())\n",
    "df_1.iloc[0]\n",
    "\n",
    "#Para una sola columna\n",
    "\n",
    "#df_1 = df['PM10'].fillna((df['PM10'].std()), inplace=True)"
   ]
  },
  {
   "cell_type": "code",
   "execution_count": 151,
   "metadata": {},
   "outputs": [
    {
     "data": {
      "text/plain": [
       "PM10         0\n",
       "PM2.5        0\n",
       "NO           0\n",
       "NO2          0\n",
       "NOX          0\n",
       "CO           0\n",
       "OZONO        0\n",
       "Station      0\n",
       "DateTime     0\n",
       "Status       0\n",
       "Latitud      0\n",
       "Longitud     0\n",
       "month        0\n",
       "day_week     0\n",
       "day_month    0\n",
       "hour         0\n",
       "dtype: int64"
      ]
     },
     "execution_count": 151,
     "metadata": {},
     "output_type": "execute_result"
    }
   ],
   "source": [
    "df_1.isnull().sum()"
   ]
  },
  {
   "cell_type": "markdown",
   "metadata": {},
   "source": [
    "### 4.2 Completar con valor predeterminada "
   ]
  },
  {
   "cell_type": "code",
   "execution_count": 152,
   "metadata": {},
   "outputs": [
    {
     "data": {
      "text/plain": [
       "PM10                        52.6\n",
       "PM2.5                       37.0\n",
       "NO                        53.384\n",
       "NO2                        3.428\n",
       "NOX                       56.817\n",
       "CO                          25.0\n",
       "OZONO                       25.0\n",
       "Station                      7MA\n",
       "DateTime     2021-01-01 01:00:00\n",
       "Status                      True\n",
       "Latitud                 4.645117\n",
       "Longitud              -74.061503\n",
       "month                          1\n",
       "day_week                       4\n",
       "day_month                      1\n",
       "hour                           1\n",
       "Name: 0, dtype: object"
      ]
     },
     "execution_count": 152,
     "metadata": {},
     "output_type": "execute_result"
    }
   ],
   "source": [
    "df_2 = df.fillna(25)\n",
    "df_2.iloc[0]"
   ]
  },
  {
   "cell_type": "code",
   "execution_count": 153,
   "metadata": {},
   "outputs": [
    {
     "data": {
      "text/plain": [
       "PM10         0\n",
       "PM2.5        0\n",
       "NO           0\n",
       "NO2          0\n",
       "NOX          0\n",
       "CO           0\n",
       "OZONO        0\n",
       "Station      0\n",
       "DateTime     0\n",
       "Status       0\n",
       "Latitud      0\n",
       "Longitud     0\n",
       "month        0\n",
       "day_week     0\n",
       "day_month    0\n",
       "hour         0\n",
       "dtype: int64"
      ]
     },
     "execution_count": 153,
     "metadata": {},
     "output_type": "execute_result"
    }
   ],
   "source": [
    "df_2.isnull().sum()"
   ]
  },
  {
   "cell_type": "markdown",
   "metadata": {},
   "source": [
    "### 4.3 Eliminar NaN"
   ]
  },
  {
   "cell_type": "code",
   "execution_count": 154,
   "metadata": {},
   "outputs": [
    {
     "data": {
      "text/html": [
       "<div>\n",
       "<style scoped>\n",
       "    .dataframe tbody tr th:only-of-type {\n",
       "        vertical-align: middle;\n",
       "    }\n",
       "\n",
       "    .dataframe tbody tr th {\n",
       "        vertical-align: top;\n",
       "    }\n",
       "\n",
       "    .dataframe thead th {\n",
       "        text-align: right;\n",
       "    }\n",
       "</style>\n",
       "<table border=\"1\" class=\"dataframe\">\n",
       "  <thead>\n",
       "    <tr style=\"text-align: right;\">\n",
       "      <th></th>\n",
       "      <th>PM10</th>\n",
       "      <th>PM2.5</th>\n",
       "      <th>NO</th>\n",
       "      <th>NO2</th>\n",
       "      <th>NOX</th>\n",
       "      <th>CO</th>\n",
       "      <th>OZONO</th>\n",
       "      <th>Station</th>\n",
       "      <th>DateTime</th>\n",
       "      <th>Status</th>\n",
       "      <th>Latitud</th>\n",
       "      <th>Longitud</th>\n",
       "      <th>month</th>\n",
       "      <th>day_week</th>\n",
       "      <th>day_month</th>\n",
       "      <th>hour</th>\n",
       "    </tr>\n",
       "  </thead>\n",
       "  <tbody>\n",
       "    <tr>\n",
       "      <th>0</th>\n",
       "      <td>52.6</td>\n",
       "      <td>37.0</td>\n",
       "      <td>53.384</td>\n",
       "      <td>3.428</td>\n",
       "      <td>56.817</td>\n",
       "      <td>NaN</td>\n",
       "      <td>NaN</td>\n",
       "      <td>7MA</td>\n",
       "      <td>2021-01-01 01:00:00</td>\n",
       "      <td>True</td>\n",
       "      <td>4.645117</td>\n",
       "      <td>-74.061503</td>\n",
       "      <td>1</td>\n",
       "      <td>4</td>\n",
       "      <td>1</td>\n",
       "      <td>1</td>\n",
       "    </tr>\n",
       "    <tr>\n",
       "      <th>1</th>\n",
       "      <td>77.9</td>\n",
       "      <td>61.0</td>\n",
       "      <td>49.105</td>\n",
       "      <td>3.420</td>\n",
       "      <td>52.525</td>\n",
       "      <td>NaN</td>\n",
       "      <td>NaN</td>\n",
       "      <td>7MA</td>\n",
       "      <td>2021-01-01 02:00:00</td>\n",
       "      <td>True</td>\n",
       "      <td>4.645117</td>\n",
       "      <td>-74.061503</td>\n",
       "      <td>1</td>\n",
       "      <td>4</td>\n",
       "      <td>1</td>\n",
       "      <td>2</td>\n",
       "    </tr>\n",
       "    <tr>\n",
       "      <th>2</th>\n",
       "      <td>58.5</td>\n",
       "      <td>48.0</td>\n",
       "      <td>47.284</td>\n",
       "      <td>4.062</td>\n",
       "      <td>51.346</td>\n",
       "      <td>NaN</td>\n",
       "      <td>NaN</td>\n",
       "      <td>7MA</td>\n",
       "      <td>2021-01-01 03:00:00</td>\n",
       "      <td>True</td>\n",
       "      <td>4.645117</td>\n",
       "      <td>-74.061503</td>\n",
       "      <td>1</td>\n",
       "      <td>4</td>\n",
       "      <td>1</td>\n",
       "      <td>3</td>\n",
       "    </tr>\n",
       "    <tr>\n",
       "      <th>3</th>\n",
       "      <td>57.2</td>\n",
       "      <td>44.0</td>\n",
       "      <td>46.059</td>\n",
       "      <td>3.606</td>\n",
       "      <td>49.664</td>\n",
       "      <td>NaN</td>\n",
       "      <td>NaN</td>\n",
       "      <td>7MA</td>\n",
       "      <td>2021-01-01 04:00:00</td>\n",
       "      <td>True</td>\n",
       "      <td>4.645117</td>\n",
       "      <td>-74.061503</td>\n",
       "      <td>1</td>\n",
       "      <td>4</td>\n",
       "      <td>1</td>\n",
       "      <td>4</td>\n",
       "    </tr>\n",
       "    <tr>\n",
       "      <th>4</th>\n",
       "      <td>53.5</td>\n",
       "      <td>39.0</td>\n",
       "      <td>39.851</td>\n",
       "      <td>1.625</td>\n",
       "      <td>41.475</td>\n",
       "      <td>NaN</td>\n",
       "      <td>NaN</td>\n",
       "      <td>7MA</td>\n",
       "      <td>2021-01-01 05:00:00</td>\n",
       "      <td>True</td>\n",
       "      <td>4.645117</td>\n",
       "      <td>-74.061503</td>\n",
       "      <td>1</td>\n",
       "      <td>4</td>\n",
       "      <td>1</td>\n",
       "      <td>5</td>\n",
       "    </tr>\n",
       "  </tbody>\n",
       "</table>\n",
       "</div>"
      ],
      "text/plain": [
       "   PM10  PM2.5      NO    NO2     NOX  CO  OZONO Station             DateTime  \\\n",
       "0  52.6   37.0  53.384  3.428  56.817 NaN    NaN     7MA  2021-01-01 01:00:00   \n",
       "1  77.9   61.0  49.105  3.420  52.525 NaN    NaN     7MA  2021-01-01 02:00:00   \n",
       "2  58.5   48.0  47.284  4.062  51.346 NaN    NaN     7MA  2021-01-01 03:00:00   \n",
       "3  57.2   44.0  46.059  3.606  49.664 NaN    NaN     7MA  2021-01-01 04:00:00   \n",
       "4  53.5   39.0  39.851  1.625  41.475 NaN    NaN     7MA  2021-01-01 05:00:00   \n",
       "\n",
       "   Status   Latitud   Longitud  month  day_week  day_month  hour  \n",
       "0    True  4.645117 -74.061503      1         4          1     1  \n",
       "1    True  4.645117 -74.061503      1         4          1     2  \n",
       "2    True  4.645117 -74.061503      1         4          1     3  \n",
       "3    True  4.645117 -74.061503      1         4          1     4  \n",
       "4    True  4.645117 -74.061503      1         4          1     5  "
      ]
     },
     "execution_count": 154,
     "metadata": {},
     "output_type": "execute_result"
    }
   ],
   "source": [
    "nan_rows.head()"
   ]
  },
  {
   "cell_type": "code",
   "execution_count": 155,
   "metadata": {},
   "outputs": [
    {
     "data": {
      "text/plain": [
       "PM10          9272\n",
       "PM2.5            0\n",
       "NO           20284\n",
       "NO2          20281\n",
       "NOX          20287\n",
       "CO           24826\n",
       "OZONO        25578\n",
       "Station          0\n",
       "DateTime         0\n",
       "Status           0\n",
       "Latitud          0\n",
       "Longitud         0\n",
       "month            0\n",
       "day_week         0\n",
       "day_month        0\n",
       "hour             0\n",
       "dtype: int64"
      ]
     },
     "execution_count": 155,
     "metadata": {},
     "output_type": "execute_result"
    }
   ],
   "source": [
    "nan_rows.isnull().sum()"
   ]
  },
  {
   "cell_type": "code",
   "execution_count": 156,
   "metadata": {},
   "outputs": [
    {
     "data": {
      "text/html": [
       "<div>\n",
       "<style scoped>\n",
       "    .dataframe tbody tr th:only-of-type {\n",
       "        vertical-align: middle;\n",
       "    }\n",
       "\n",
       "    .dataframe tbody tr th {\n",
       "        vertical-align: top;\n",
       "    }\n",
       "\n",
       "    .dataframe thead th {\n",
       "        text-align: right;\n",
       "    }\n",
       "</style>\n",
       "<table border=\"1\" class=\"dataframe\">\n",
       "  <thead>\n",
       "    <tr style=\"text-align: right;\">\n",
       "      <th></th>\n",
       "      <th>PM10</th>\n",
       "      <th>PM2.5</th>\n",
       "      <th>NO</th>\n",
       "      <th>NO2</th>\n",
       "      <th>NOX</th>\n",
       "      <th>CO</th>\n",
       "      <th>OZONO</th>\n",
       "      <th>Station</th>\n",
       "      <th>DateTime</th>\n",
       "      <th>Status</th>\n",
       "      <th>Latitud</th>\n",
       "      <th>Longitud</th>\n",
       "      <th>month</th>\n",
       "      <th>day_week</th>\n",
       "      <th>day_month</th>\n",
       "      <th>hour</th>\n",
       "    </tr>\n",
       "  </thead>\n",
       "  <tbody>\n",
       "  </tbody>\n",
       "</table>\n",
       "</div>"
      ],
      "text/plain": [
       "Empty DataFrame\n",
       "Columns: [PM10, PM2.5, NO, NO2, NOX, CO, OZONO, Station, DateTime, Status, Latitud, Longitud, month, day_week, day_month, hour]\n",
       "Index: []"
      ]
     },
     "execution_count": 156,
     "metadata": {},
     "output_type": "execute_result"
    }
   ],
   "source": [
    "#Elinina todas las filas que tengan NaN\n",
    "df_3 = nan_rows.dropna()\n",
    "df_3.head()"
   ]
  },
  {
   "cell_type": "code",
   "execution_count": 157,
   "metadata": {},
   "outputs": [
    {
     "data": {
      "text/plain": [
       "PM10         0\n",
       "PM2.5        0\n",
       "NO           0\n",
       "NO2          0\n",
       "NOX          0\n",
       "CO           0\n",
       "OZONO        0\n",
       "Station      0\n",
       "DateTime     0\n",
       "Status       0\n",
       "Latitud      0\n",
       "Longitud     0\n",
       "month        0\n",
       "day_week     0\n",
       "day_month    0\n",
       "hour         0\n",
       "dtype: int64"
      ]
     },
     "execution_count": 157,
     "metadata": {},
     "output_type": "execute_result"
    }
   ],
   "source": [
    "df_3.isnull().sum()"
   ]
  },
  {
   "cell_type": "code",
   "execution_count": 159,
   "metadata": {},
   "outputs": [
    {
     "data": {
      "text/html": [
       "<div>\n",
       "<style scoped>\n",
       "    .dataframe tbody tr th:only-of-type {\n",
       "        vertical-align: middle;\n",
       "    }\n",
       "\n",
       "    .dataframe tbody tr th {\n",
       "        vertical-align: top;\n",
       "    }\n",
       "\n",
       "    .dataframe thead th {\n",
       "        text-align: right;\n",
       "    }\n",
       "</style>\n",
       "<table border=\"1\" class=\"dataframe\">\n",
       "  <thead>\n",
       "    <tr style=\"text-align: right;\">\n",
       "      <th></th>\n",
       "      <th>PM10</th>\n",
       "      <th>PM2.5</th>\n",
       "      <th>NO</th>\n",
       "      <th>NO2</th>\n",
       "      <th>NOX</th>\n",
       "      <th>CO</th>\n",
       "      <th>OZONO</th>\n",
       "      <th>Station</th>\n",
       "      <th>DateTime</th>\n",
       "      <th>Status</th>\n",
       "      <th>Latitud</th>\n",
       "      <th>Longitud</th>\n",
       "      <th>month</th>\n",
       "      <th>day_week</th>\n",
       "      <th>day_month</th>\n",
       "      <th>hour</th>\n",
       "    </tr>\n",
       "  </thead>\n",
       "  <tbody>\n",
       "    <tr>\n",
       "      <th>0</th>\n",
       "      <td>52.6</td>\n",
       "      <td>37.0</td>\n",
       "      <td>53.384</td>\n",
       "      <td>3.428</td>\n",
       "      <td>56.817</td>\n",
       "      <td>25.0</td>\n",
       "      <td>25.0</td>\n",
       "      <td>7MA</td>\n",
       "      <td>2021-01-01 01:00:00</td>\n",
       "      <td>True</td>\n",
       "      <td>4.645117</td>\n",
       "      <td>-74.061503</td>\n",
       "      <td>1</td>\n",
       "      <td>4</td>\n",
       "      <td>1</td>\n",
       "      <td>1</td>\n",
       "    </tr>\n",
       "    <tr>\n",
       "      <th>1</th>\n",
       "      <td>77.9</td>\n",
       "      <td>61.0</td>\n",
       "      <td>49.105</td>\n",
       "      <td>3.420</td>\n",
       "      <td>52.525</td>\n",
       "      <td>25.0</td>\n",
       "      <td>25.0</td>\n",
       "      <td>7MA</td>\n",
       "      <td>2021-01-01 02:00:00</td>\n",
       "      <td>True</td>\n",
       "      <td>4.645117</td>\n",
       "      <td>-74.061503</td>\n",
       "      <td>1</td>\n",
       "      <td>4</td>\n",
       "      <td>1</td>\n",
       "      <td>2</td>\n",
       "    </tr>\n",
       "    <tr>\n",
       "      <th>2</th>\n",
       "      <td>58.5</td>\n",
       "      <td>48.0</td>\n",
       "      <td>47.284</td>\n",
       "      <td>4.062</td>\n",
       "      <td>51.346</td>\n",
       "      <td>25.0</td>\n",
       "      <td>25.0</td>\n",
       "      <td>7MA</td>\n",
       "      <td>2021-01-01 03:00:00</td>\n",
       "      <td>True</td>\n",
       "      <td>4.645117</td>\n",
       "      <td>-74.061503</td>\n",
       "      <td>1</td>\n",
       "      <td>4</td>\n",
       "      <td>1</td>\n",
       "      <td>3</td>\n",
       "    </tr>\n",
       "    <tr>\n",
       "      <th>3</th>\n",
       "      <td>57.2</td>\n",
       "      <td>44.0</td>\n",
       "      <td>46.059</td>\n",
       "      <td>3.606</td>\n",
       "      <td>49.664</td>\n",
       "      <td>25.0</td>\n",
       "      <td>25.0</td>\n",
       "      <td>7MA</td>\n",
       "      <td>2021-01-01 04:00:00</td>\n",
       "      <td>True</td>\n",
       "      <td>4.645117</td>\n",
       "      <td>-74.061503</td>\n",
       "      <td>1</td>\n",
       "      <td>4</td>\n",
       "      <td>1</td>\n",
       "      <td>4</td>\n",
       "    </tr>\n",
       "    <tr>\n",
       "      <th>4</th>\n",
       "      <td>53.5</td>\n",
       "      <td>39.0</td>\n",
       "      <td>39.851</td>\n",
       "      <td>1.625</td>\n",
       "      <td>41.475</td>\n",
       "      <td>25.0</td>\n",
       "      <td>25.0</td>\n",
       "      <td>7MA</td>\n",
       "      <td>2021-01-01 05:00:00</td>\n",
       "      <td>True</td>\n",
       "      <td>4.645117</td>\n",
       "      <td>-74.061503</td>\n",
       "      <td>1</td>\n",
       "      <td>4</td>\n",
       "      <td>1</td>\n",
       "      <td>5</td>\n",
       "    </tr>\n",
       "  </tbody>\n",
       "</table>\n",
       "</div>"
      ],
      "text/plain": [
       "   PM10  PM2.5      NO    NO2     NOX    CO  OZONO Station  \\\n",
       "0  52.6   37.0  53.384  3.428  56.817  25.0   25.0     7MA   \n",
       "1  77.9   61.0  49.105  3.420  52.525  25.0   25.0     7MA   \n",
       "2  58.5   48.0  47.284  4.062  51.346  25.0   25.0     7MA   \n",
       "3  57.2   44.0  46.059  3.606  49.664  25.0   25.0     7MA   \n",
       "4  53.5   39.0  39.851  1.625  41.475  25.0   25.0     7MA   \n",
       "\n",
       "              DateTime  Status   Latitud   Longitud  month  day_week  \\\n",
       "0  2021-01-01 01:00:00    True  4.645117 -74.061503      1         4   \n",
       "1  2021-01-01 02:00:00    True  4.645117 -74.061503      1         4   \n",
       "2  2021-01-01 03:00:00    True  4.645117 -74.061503      1         4   \n",
       "3  2021-01-01 04:00:00    True  4.645117 -74.061503      1         4   \n",
       "4  2021-01-01 05:00:00    True  4.645117 -74.061503      1         4   \n",
       "\n",
       "   day_month  hour  \n",
       "0          1     1  \n",
       "1          1     2  \n",
       "2          1     3  \n",
       "3          1     4  \n",
       "4          1     5  "
      ]
     },
     "execution_count": 159,
     "metadata": {},
     "output_type": "execute_result"
    }
   ],
   "source": [
    "df_2.head()"
   ]
  },
  {
   "cell_type": "code",
   "execution_count": null,
   "metadata": {},
   "outputs": [],
   "source": [
    "# Exportar el conjunto de datos sin nulos a un archivo CSV\n",
    "df_2.to_csv('work/dataScienceCourse/data/dataset_with_geo_missing_not_nulls.csv', index=False)"
   ]
  }
 ],
 "metadata": {
  "colab": {
   "collapsed_sections": [],
   "provenance": [],
   "toc_visible": true
  },
  "kernelspec": {
   "display_name": "Python 3 (ipykernel)",
   "language": "python",
   "name": "python3"
  },
  "language_info": {
   "codemirror_mode": {
    "name": "ipython",
    "version": 3
   },
   "file_extension": ".py",
   "mimetype": "text/x-python",
   "name": "python",
   "nbconvert_exporter": "python",
   "pygments_lexer": "ipython3",
   "version": "3.11.6"
  },
  "vscode": {
   "interpreter": {
    "hash": "aee8b7b246df8f9039afb4144a1f6fd8d2ca17a180786b69acc140d282b71a49"
   }
  }
 },
 "nbformat": 4,
 "nbformat_minor": 4
}
